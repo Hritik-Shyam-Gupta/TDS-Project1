{
  "nbformat": 4,
  "nbformat_minor": 0,
  "metadata": {
    "colab": {
      "provenance": []
    },
    "kernelspec": {
      "name": "python3",
      "display_name": "Python 3"
    },
    "language_info": {
      "name": "python"
    }
  },
  "cells": [
    {
      "cell_type": "code",
      "execution_count": 2,
      "metadata": {
        "colab": {
          "base_uri": "https://localhost:8080/"
        },
        "id": "HdPh-M8dHcws",
        "outputId": "1ecd1235-c6ae-4bd7-ac5f-74ff51da367f"
      },
      "outputs": [
        {
          "output_type": "stream",
          "name": "stdout",
          "text": [
            "Company names cleaned and saved to users.csv.\n"
          ]
        }
      ],
      "source": [
        "#more cleaned users.csv\n",
        "import pandas as pd\n",
        "\n",
        "# Load the data\n",
        "users_df = pd.read_csv('users.csv')\n",
        "\n",
        "# Clean the company names\n",
        "users_df['company'] = users_df['company'].str.strip()  # Trim whitespace\n",
        "users_df['company'] = users_df['company'].str.lstrip('@')  # Strip leading '@'\n",
        "users_df['company'] = users_df['company'].str.upper()  # Convert to uppercase\n",
        "\n",
        "# Save the cleaned DataFrame back to users.csv\n",
        "users_df.to_csv('users.csv', index=False)\n",
        "\n",
        "print(\"Company names cleaned and saved to users.csv.\")"
      ]
    },
    {
      "cell_type": "code",
      "source": [
        "#Q1\n",
        "import pandas as pd\n",
        "\n",
        "# Load the data\n",
        "users_df = pd.read_csv('users.csv')\n",
        "\n",
        "# Sort by followers and get top 5\n",
        "top_users = users_df.sort_values(by='followers', ascending=False).head(5)\n",
        "\n",
        "# Extract logins\n",
        "top_logins = top_users['login'].tolist()\n",
        "result = ','.join(top_logins)\n",
        "\n",
        "print(result)"
      ],
      "metadata": {
        "colab": {
          "base_uri": "https://localhost:8080/"
        },
        "id": "rkhOGCoaIZpJ",
        "outputId": "281e140a-51f4-401e-f55c-cd092a9a35b0"
      },
      "execution_count": 5,
      "outputs": [
        {
          "output_type": "stream",
          "name": "stdout",
          "text": [
            "huggingface,brunosimon,fabpot,Charles-Chrismann,posva\n"
          ]
        }
      ]
    },
    {
      "cell_type": "code",
      "source": [
        "#Q2\n",
        "import pandas as pd\n",
        "\n",
        "# Load the data\n",
        "users_df = pd.read_csv('users.csv')\n",
        "\n",
        "# Convert created_at to datetime\n",
        "users_df['created_at'] = pd.to_datetime(users_df['created_at'])\n",
        "\n",
        "# Sort by created_at and get the earliest 5 users\n",
        "earliest_users = users_df.sort_values(by='created_at').head(5)\n",
        "\n",
        "# Extract logins\n",
        "earliest_logins = earliest_users['login'].tolist()\n",
        "result = ','.join(earliest_logins)\n",
        "\n",
        "print(result)"
      ],
      "metadata": {
        "colab": {
          "base_uri": "https://localhost:8080/"
        },
        "id": "auluvzAhImK7",
        "outputId": "d2a0612d-0336-42ee-a904-aa1e72d7388d"
      },
      "execution_count": 8,
      "outputs": [
        {
          "output_type": "stream",
          "name": "stdout",
          "text": [
            "sunny,nkallen,nono,tdd,luislavena\n"
          ]
        }
      ]
    },
    {
      "cell_type": "code",
      "source": [
        "#Q3\n",
        "import pandas as pd\n",
        "\n",
        "# Load the data\n",
        "repositories_df = pd.read_csv('repositories.csv')\n",
        "\n",
        "# Filter out missing license names\n",
        "repositories_df = repositories_df[repositories_df['license_name'].notna()]\n",
        "\n",
        "# Count occurrences of each license\n",
        "license_counts = repositories_df['license_name'].value_counts()\n",
        "\n",
        "# Get the top 3 licenses\n",
        "top_licenses = license_counts.head(3).index.tolist()\n",
        "\n",
        "# Join the license names in order\n",
        "result = ','.join(top_licenses)\n",
        "\n",
        "print(result)"
      ],
      "metadata": {
        "colab": {
          "base_uri": "https://localhost:8080/"
        },
        "id": "6gbpiEKxJGve",
        "outputId": "b541d77d-23f6-431a-a8b9-abcea6ae0965"
      },
      "execution_count": 10,
      "outputs": [
        {
          "output_type": "stream",
          "name": "stdout",
          "text": [
            "mit,apache-2.0,other\n"
          ]
        }
      ]
    },
    {
      "cell_type": "code",
      "source": [
        "#Q4\n",
        "import pandas as pd\n",
        "\n",
        "# Load the data\n",
        "users_df = pd.read_csv('users.csv')\n",
        "\n",
        "# Count occurrences of each company\n",
        "company_counts = users_df['company'].value_counts()\n",
        "\n",
        "# Get the company with the highest count\n",
        "most_common_company = company_counts.idxmax()\n",
        "most_common_count = company_counts.max()\n",
        "\n",
        "print(f\"The majority of developers work at: {most_common_company} with {most_common_count} developers.\")"
      ],
      "metadata": {
        "colab": {
          "base_uri": "https://localhost:8080/"
        },
        "id": "LnMCK-7qJM4G",
        "outputId": "acb5cc3c-97e0-4bdd-dc61-8116906409df"
      },
      "execution_count": 11,
      "outputs": [
        {
          "output_type": "stream",
          "name": "stdout",
          "text": [
            "The majority of developers work at: HUGGINGFACE with 8 developers.\n"
          ]
        }
      ]
    },
    {
      "cell_type": "code",
      "source": [
        "#Q5\n",
        "import pandas as pd\n",
        "\n",
        "# Load the data\n",
        "repositories_df = pd.read_csv('repositories.csv')\n",
        "\n",
        "# Count occurrences of each programming language, ignoring missing values\n",
        "language_counts = repositories_df['language'].value_counts()\n",
        "\n",
        "# Get the most popular programming language\n",
        "most_popular_language = language_counts.idxmax()\n",
        "most_popular_count = language_counts.max()\n",
        "\n",
        "print(f\"The most popular programming language is: {most_popular_language} with {most_popular_count} repositories.\")"
      ],
      "metadata": {
        "colab": {
          "base_uri": "https://localhost:8080/"
        },
        "id": "aU6_as9xJR9c",
        "outputId": "d163f255-0ea8-4a5d-de85-76141ee3ace5"
      },
      "execution_count": 12,
      "outputs": [
        {
          "output_type": "stream",
          "name": "stdout",
          "text": [
            "The most popular programming language is: JavaScript with 5659 repositories.\n"
          ]
        }
      ]
    },
    {
      "cell_type": "code",
      "source": [
        "#Q6\n",
        "import pandas as pd\n",
        "\n",
        "# Load the data\n",
        "users_df = pd.read_csv('users.csv')\n",
        "repositories_df = pd.read_csv('repositories.csv')\n",
        "\n",
        "# Convert created_at to datetime and filter users who joined after 2020\n",
        "users_df['created_at'] = pd.to_datetime(users_df['created_at'])\n",
        "recent_users = users_df[users_df['created_at'] > '2020-01-01']\n",
        "\n",
        "# Get the logins of recent users\n",
        "recent_user_logins = recent_users['login'].tolist()\n",
        "\n",
        "# Filter repositories by these users\n",
        "recent_repositories = repositories_df[repositories_df['login'].isin(recent_user_logins)]\n",
        "\n",
        "# Count occurrences of each programming language\n",
        "language_counts = recent_repositories['language'].value_counts()\n",
        "\n",
        "# Get the second most popular programming language\n",
        "second_most_popular_language = language_counts.nlargest(2).index[1]\n",
        "second_most_popular_count = language_counts.nlargest(2).values[1]\n",
        "\n",
        "print(f\"The second most popular programming language among users who joined after 2020 is: {second_most_popular_language} with {second_most_popular_count} repositories.\")"
      ],
      "metadata": {
        "colab": {
          "base_uri": "https://localhost:8080/"
        },
        "id": "84TAWEDUJVnM",
        "outputId": "ea1df456-a441-4600-b778-8b5b1612b403"
      },
      "execution_count": 13,
      "outputs": [
        {
          "output_type": "stream",
          "name": "stdout",
          "text": [
            "The second most popular programming language among users who joined after 2020 is: Python with 68 repositories.\n"
          ]
        }
      ]
    },
    {
      "cell_type": "code",
      "source": [
        "#Q7\n",
        "import pandas as pd\n",
        "\n",
        "# Load the data\n",
        "repositories_df = pd.read_csv('repositories.csv')\n",
        "\n",
        "# Group by programming language and calculate the average stars\n",
        "average_stars = repositories_df.groupby('language')['stargazers_count'].mean()\n",
        "\n",
        "# Identify the language with the highest average stars\n",
        "highest_average_language = average_stars.idxmax()\n",
        "highest_average_value = average_stars.max()\n",
        "\n",
        "print(f\"The programming language with the highest average number of stars per repository is: {highest_average_language} with an average of {highest_average_value:.2f} stars.\")"
      ],
      "metadata": {
        "colab": {
          "base_uri": "https://localhost:8080/"
        },
        "id": "2J7cNcwDJaE-",
        "outputId": "daf75512-591b-4b9e-ecf7-e319aa26cb74"
      },
      "execution_count": 14,
      "outputs": [
        {
          "output_type": "stream",
          "name": "stdout",
          "text": [
            "The programming language with the highest average number of stars per repository is: Blade with an average of 1632.00 stars.\n"
          ]
        }
      ]
    },
    {
      "cell_type": "code",
      "source": [
        "#Q8\n",
        "import pandas as pd\n",
        "\n",
        "# Load the data\n",
        "users_df = pd.read_csv('users.csv')\n",
        "\n",
        "# Calculate leader_strength\n",
        "users_df['leader_strength'] = users_df['followers'] / (1 + users_df['following'])\n",
        "\n",
        "# Sort by leader_strength and get the top 5\n",
        "top_leaders = users_df.sort_values(by='leader_strength', ascending=False).head(5)\n",
        "\n",
        "# Extract logins\n",
        "top_logins = top_leaders['login'].tolist()\n",
        "result = ','.join(top_logins)\n",
        "\n",
        "print(result)"
      ],
      "metadata": {
        "colab": {
          "base_uri": "https://localhost:8080/"
        },
        "id": "M6FXpLMRJduJ",
        "outputId": "d3ee9f0d-f7ca-425f-e503-e137a8be105d"
      },
      "execution_count": 16,
      "outputs": [
        {
          "output_type": "stream",
          "name": "stdout",
          "text": [
            "huggingface,brunosimon,fabpot,lewagon,BartoszMilewski\n"
          ]
        }
      ]
    },
    {
      "cell_type": "code",
      "source": [
        "#Q9\n",
        "import pandas as pd\n",
        "\n",
        "# Load the data\n",
        "users_df = pd.read_csv('users.csv')\n",
        "\n",
        "# Calculate the correlation between followers and public repositories\n",
        "correlation = users_df['followers'].corr(users_df['public_repos'])\n",
        "\n",
        "print(f\"The correlation between the number of followers and the number of public repositories is: {correlation:.3f}\")"
      ],
      "metadata": {
        "colab": {
          "base_uri": "https://localhost:8080/"
        },
        "id": "z6RmHihZJgdI",
        "outputId": "2c1acccf-4a2b-4452-d747-022c1c501370"
      },
      "execution_count": 17,
      "outputs": [
        {
          "output_type": "stream",
          "name": "stdout",
          "text": [
            "The correlation between the number of followers and the number of public repositories is: 0.085\n"
          ]
        }
      ]
    },
    {
      "cell_type": "code",
      "source": [
        "#Q10\n",
        "import pandas as pd\n",
        "import statsmodels.api as sm\n",
        "\n",
        "# Load the data\n",
        "users_df = pd.read_csv('users.csv')\n",
        "\n",
        "# Define the independent variable (X) and dependent variable (Y)\n",
        "X = users_df['public_repos']\n",
        "Y = users_df['followers']\n",
        "\n",
        "# Add a constant to the independent variable (for the intercept)\n",
        "X = sm.add_constant(X)\n",
        "\n",
        "# Fit the regression model\n",
        "model = sm.OLS(Y, X).fit()\n",
        "\n",
        "# Get the summary of the regression results\n",
        "summary = model.summary()\n",
        "\n",
        "# Extract the coefficient for public_repos\n",
        "additional_followers_per_repo = model.params['public_repos']\n",
        "\n",
        "print(f\"Regression Results:\\n{summary}\")\n",
        "print(f\"Estimated additional followers per additional public repository: {additional_followers_per_repo:.3f}\")"
      ],
      "metadata": {
        "colab": {
          "base_uri": "https://localhost:8080/"
        },
        "id": "NQqyKNONJk06",
        "outputId": "2c95b987-a711-4445-e831-00d1abb197fb"
      },
      "execution_count": 18,
      "outputs": [
        {
          "output_type": "stream",
          "name": "stdout",
          "text": [
            "Regression Results:\n",
            "                            OLS Regression Results                            \n",
            "==============================================================================\n",
            "Dep. Variable:              followers   R-squared:                       0.007\n",
            "Model:                            OLS   Adj. R-squared:                  0.005\n",
            "Method:                 Least Squares   F-statistic:                     2.756\n",
            "Date:                Sat, 02 Nov 2024   Prob (F-statistic):             0.0977\n",
            "Time:                        09:13:17   Log-Likelihood:                -3540.6\n",
            "No. Observations:                 385   AIC:                             7085.\n",
            "Df Residuals:                     383   BIC:                             7093.\n",
            "Df Model:                           1                                         \n",
            "Covariance Type:            nonrobust                                         \n",
            "================================================================================\n",
            "                   coef    std err          t      P>|t|      [0.025      0.975]\n",
            "--------------------------------------------------------------------------------\n",
            "const          648.9566    164.606      3.942      0.000     325.312     972.601\n",
            "public_repos     1.8205      1.097      1.660      0.098      -0.335       3.976\n",
            "==============================================================================\n",
            "Omnibus:                      714.856   Durbin-Watson:                   0.216\n",
            "Prob(Omnibus):                  0.000   Jarque-Bera (JB):           424769.626\n",
            "Skew:                          11.606   Prob(JB):                         0.00\n",
            "Kurtosis:                     164.060   Cond. No.                         203.\n",
            "==============================================================================\n",
            "\n",
            "Notes:\n",
            "[1] Standard Errors assume that the covariance matrix of the errors is correctly specified.\n",
            "Estimated additional followers per additional public repository: 1.820\n"
          ]
        }
      ]
    },
    {
      "cell_type": "code",
      "source": [
        "#Q11\n",
        "import pandas as pd\n",
        "\n",
        "# Load the data\n",
        "repositories_df = pd.read_csv('repositories.csv')\n",
        "\n",
        "\n",
        "# Calculate the correlation directly\n",
        "correlation = repositories_df['has_projects'].astype(int).corr(repositories_df['has_wiki'].astype(int))\n",
        "\n",
        "print(f\"The correlation between having projects enabled and having a wiki enabled is: {correlation:.3f}\")"
      ],
      "metadata": {
        "colab": {
          "base_uri": "https://localhost:8080/"
        },
        "id": "lmTlNl9mJryh",
        "outputId": "cff25392-097c-466b-a4f1-b80ce6612f69"
      },
      "execution_count": 19,
      "outputs": [
        {
          "output_type": "stream",
          "name": "stdout",
          "text": [
            "The correlation between having projects enabled and having a wiki enabled is: 0.360\n"
          ]
        }
      ]
    },
    {
      "cell_type": "code",
      "source": [
        "#Q12\n",
        "import pandas as pd\n",
        "\n",
        "# Load the users data from the CSV file\n",
        "users_df = pd.read_csv('users.csv')\n",
        "\n",
        "# Filter hireable and non-hireable users\n",
        "hireable_users = users_df[users_df['hireable'] == True]\n",
        "non_hireable_users = users_df[users_df['hireable'].isna() | (users_df['hireable'] == False)]\n",
        "\n",
        "# Calculate average following for both groups\n",
        "average_hireable_following = hireable_users['following'].mean()\n",
        "average_non_hireable_following = non_hireable_users['following'].mean()\n",
        "\n",
        "# Calculate the difference\n",
        "difference = average_hireable_following - average_non_hireable_following\n",
        "\n",
        "# Print the result rounded to three decimal places\n",
        "print(f'Difference in average following (hireable - non-hireable): {difference:.3f}')"
      ],
      "metadata": {
        "colab": {
          "base_uri": "https://localhost:8080/"
        },
        "id": "Dset4A7iJta2",
        "outputId": "cfd0e66b-b216-4a01-a756-b0b37de92eab"
      },
      "execution_count": 20,
      "outputs": [
        {
          "output_type": "stream",
          "name": "stdout",
          "text": [
            "Difference in average following (hireable - non-hireable): -854.561\n"
          ]
        }
      ]
    },
    {
      "cell_type": "code",
      "source": [
        "#Q13\n",
        "import pandas as pd\n",
        "import statsmodels.api as sm\n",
        "\n",
        "# Load the CSV file\n",
        "csv_file = 'users.csv'  # Ensure this path is correct\n",
        "\n",
        "# Load the CSV into a DataFrame\n",
        "df = pd.read_csv(csv_file)\n",
        "\n",
        "# Check the first few rows and the data types of the DataFrame\n",
        "print(\"DataFrame Overview:\")\n",
        "print(df.head())\n",
        "print(\"\\nDataFrame Info:\")\n",
        "print(df.info())\n",
        "\n",
        "# Filter out users without bios\n",
        "df = df[df['bio'].notnull()]\n",
        "\n",
        "# Calculate the length of each bio in words\n",
        "df['bio_word_count'] = df['bio'].str.split().str.len()\n",
        "\n",
        "# Prepare the independent variable (X) and dependent variable (y)\n",
        "X = df['bio_word_count']\n",
        "y = df['followers']  # Adjust the column name as per your dataset\n",
        "\n",
        "# Add a constant to the independent variable (for the intercept)\n",
        "X = sm.add_constant(X)\n",
        "\n",
        "# Fit the regression model\n",
        "model = sm.OLS(y, X).fit()\n",
        "\n",
        "# Get the slope (coefficient of the bio_word_count)\n",
        "slope = model.params['bio_word_count']\n",
        "\n",
        "# Print the regression slope rounded to three decimal places\n",
        "print(f\"\\nRegression slope of followers on bio word count: {slope:.3f}\")"
      ],
      "metadata": {
        "colab": {
          "base_uri": "https://localhost:8080/"
        },
        "id": "EWtg00HpJzM7",
        "outputId": "15c08179-9f51-4314-baa9-b6016992e518"
      },
      "execution_count": 23,
      "outputs": [
        {
          "output_type": "stream",
          "name": "stdout",
          "text": [
            "DataFrame Overview:\n",
            "               login                       name  \\\n",
            "0        huggingface               Hugging Face   \n",
            "1         brunosimon                Bruno Simon   \n",
            "2             fabpot           Fabien Potencier   \n",
            "3  Charles-Chrismann          Charles Chrismann   \n",
            "4              posva  Eduardo San Martin Morote   \n",
            "\n",
            "                                         company           location  \\\n",
            "0                                            NaN        NYC + Paris   \n",
            "1                               CREATIVE JOURNEY              Paris   \n",
            "2                  SYMFONY/PLATFORM.SH/BLACKFIRE      Paris, France   \n",
            "3  INSTITUT DE L'INTERNET ET DU MULTIMÉDIA (IIM)  Paris, La Défense   \n",
            "4                                      FREELANCE             Paris    \n",
            "\n",
            "                email  hireable  \\\n",
            "0                 NaN     False   \n",
            "1                 NaN      True   \n",
            "2  fabien@symfony.com     False   \n",
            "3                 NaN     False   \n",
            "4                 NaN      True   \n",
            "\n",
            "                                                 bio  public_repos  followers  \\\n",
            "0              The AI community building the future.           261      38253   \n",
            "1                                                NaN            79      18765   \n",
            "2  Founder and project lead at Symfony\\r\\nCPO at ...            77      13245   \n",
            "3  Étudiant en 3e année de Développement Web à l'...            35      12117   \n",
            "4  Member of the @vuejs core team\\r\\nSpeaker, tra...           323       5900   \n",
            "\n",
            "   following            created_at  \n",
            "0          0  2017-02-12T11:20:28Z  \n",
            "1          0  2013-09-11T23:44:41Z  \n",
            "2          0  2009-01-17T13:42:51Z  \n",
            "3     218312  2021-01-28T14:18:01Z  \n",
            "4         58  2011-03-11T14:29:46Z  \n",
            "\n",
            "DataFrame Info:\n",
            "<class 'pandas.core.frame.DataFrame'>\n",
            "RangeIndex: 385 entries, 0 to 384\n",
            "Data columns (total 11 columns):\n",
            " #   Column        Non-Null Count  Dtype \n",
            "---  ------        --------------  ----- \n",
            " 0   login         385 non-null    object\n",
            " 1   name          380 non-null    object\n",
            " 2   company       256 non-null    object\n",
            " 3   location      385 non-null    object\n",
            " 4   email         195 non-null    object\n",
            " 5   hireable      385 non-null    bool  \n",
            " 6   bio           288 non-null    object\n",
            " 7   public_repos  385 non-null    int64 \n",
            " 8   followers     385 non-null    int64 \n",
            " 9   following     385 non-null    int64 \n",
            " 10  created_at    385 non-null    object\n",
            "dtypes: bool(1), int64(3), object(7)\n",
            "memory usage: 30.6+ KB\n",
            "None\n",
            "\n",
            "Regression slope of followers on bio word count: -16.607\n"
          ]
        },
        {
          "output_type": "stream",
          "name": "stderr",
          "text": [
            "<ipython-input-23-2d0cbe58dc40>:20: SettingWithCopyWarning: \n",
            "A value is trying to be set on a copy of a slice from a DataFrame.\n",
            "Try using .loc[row_indexer,col_indexer] = value instead\n",
            "\n",
            "See the caveats in the documentation: https://pandas.pydata.org/pandas-docs/stable/user_guide/indexing.html#returning-a-view-versus-a-copy\n",
            "  df['bio_word_count'] = df['bio'].str.split().str.len()\n"
          ]
        }
      ]
    },
    {
      "cell_type": "code",
      "source": [
        "#Q14\n",
        "import pandas as pd\n",
        "\n",
        "# Load the repositories data from the CSV file\n",
        "repos_df = pd.read_csv('repositories.csv')\n",
        "\n",
        "# Convert the created_at column to datetime\n",
        "repos_df['created_at'] = pd.to_datetime(repos_df['created_at'])\n",
        "\n",
        "# Filter for weekend days (Saturday: 5, Sunday: 6)\n",
        "weekend_repos = repos_df[repos_df['created_at'].dt.dayofweek.isin([5, 6])]\n",
        "\n",
        "# Count the number of repositories created by each user\n",
        "top_users = weekend_repos['login'].value_counts().head(5)\n",
        "\n",
        "# Get the top 5 users' logins in order\n",
        "top_users_logins = ','.join(top_users.index)\n",
        "\n",
        "# Print the result\n",
        "print(f'Top 5 users who created the most repositories on weekends: {top_users_logins}')"
      ],
      "metadata": {
        "colab": {
          "base_uri": "https://localhost:8080/"
        },
        "id": "h5DLc169KWkv",
        "outputId": "c2109c5a-a0c2-4965-cf46-929f4f7f5c9d"
      },
      "execution_count": 25,
      "outputs": [
        {
          "output_type": "stream",
          "name": "stdout",
          "text": [
            "Top 5 users who created the most repositories on weekends: MysteriousSonOfGod,rishistyping,vincentbernat,gre,KOUISAmine\n"
          ]
        }
      ]
    },
    {
      "cell_type": "code",
      "source": [
        "#Q15\n",
        "import pandas as pd\n",
        "\n",
        "# Load the users data from the CSV file\n",
        "users_df = pd.read_csv('users.csv')\n",
        "\n",
        "# Total number of users\n",
        "total_users = len(users_df)\n",
        "\n",
        "# Filter hireable and non-hireable users\n",
        "hireable_users = users_df[users_df['hireable'] == True]\n",
        "non_hireable_users = users_df[users_df['hireable'].isna() | (users_df['hireable'] == False)]\n",
        "\n",
        "# Calculate the fraction of users with email in both groups\n",
        "fraction_hireable_with_email = hireable_users['email'].notna().mean()\n",
        "fraction_non_hireable_with_email = non_hireable_users['email'].notna().mean()\n",
        "\n",
        "# Calculate the difference\n",
        "difference = fraction_hireable_with_email - fraction_non_hireable_with_email\n",
        "\n",
        "# Print the result rounded to three decimal places\n",
        "print(f'Difference in fraction of users with email: {difference:.3f}')"
      ],
      "metadata": {
        "colab": {
          "base_uri": "https://localhost:8080/"
        },
        "id": "lf9leMdWKb3A",
        "outputId": "78ef1730-1d88-40b6-f9a9-035bb250be86"
      },
      "execution_count": 26,
      "outputs": [
        {
          "output_type": "stream",
          "name": "stdout",
          "text": [
            "Difference in fraction of users with email: -0.050\n"
          ]
        }
      ]
    },
    {
      "cell_type": "code",
      "source": [
        "#Q16\n",
        "import pandas as pd\n",
        "\n",
        "# Load the users data from the CSV file\n",
        "users_df = pd.read_csv('users.csv')\n",
        "\n",
        "# Filter out users without names\n",
        "valid_users = users_df[users_df['name'].notna()]\n",
        "\n",
        "# Extract surnames (last word in name)\n",
        "valid_users['surname'] = valid_users['name'].str.strip().str.split().str[-1]\n",
        "\n",
        "# Count occurrences of each surname\n",
        "surname_counts = valid_users['surname'].value_counts()\n",
        "\n",
        "# Find the most common surname(s)\n",
        "max_count = surname_counts.max()\n",
        "most_common_surnames = surname_counts[surname_counts == max_count].index.tolist()\n",
        "\n",
        "# Sort surnames alphabetically\n",
        "most_common_surnames.sort()\n",
        "\n",
        "# Count users with the most common surname\n",
        "number_of_users = max_count\n",
        "\n",
        "# Print results\n",
        "most_common_surnames_str = ', '.join(most_common_surnames)\n",
        "print(f'Most common surname(s): {most_common_surnames_str}')\n",
        "print(f'Number of users with the most common surname: {number_of_users}')"
      ],
      "metadata": {
        "colab": {
          "base_uri": "https://localhost:8080/"
        },
        "id": "uSv3WBRsKe2w",
        "outputId": "0b90ba46-483f-4ee5-9138-523920fdc382"
      },
      "execution_count": 27,
      "outputs": [
        {
          "output_type": "stream",
          "name": "stdout",
          "text": [
            "Most common surname(s): Simon\n",
            "Number of users with the most common surname: 3\n"
          ]
        },
        {
          "output_type": "stream",
          "name": "stderr",
          "text": [
            "<ipython-input-27-dc0f22873520>:11: SettingWithCopyWarning: \n",
            "A value is trying to be set on a copy of a slice from a DataFrame.\n",
            "Try using .loc[row_indexer,col_indexer] = value instead\n",
            "\n",
            "See the caveats in the documentation: https://pandas.pydata.org/pandas-docs/stable/user_guide/indexing.html#returning-a-view-versus-a-copy\n",
            "  valid_users['surname'] = valid_users['name'].str.strip().str.split().str[-1]\n"
          ]
        }
      ]
    }
  ]
}